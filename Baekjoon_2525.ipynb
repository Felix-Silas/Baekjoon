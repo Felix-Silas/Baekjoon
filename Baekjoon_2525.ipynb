{
 "cells": [
  {
   "cell_type": "code",
   "execution_count": 29,
   "id": "3e1912df",
   "metadata": {},
   "outputs": [
    {
     "name": "stdout",
     "output_type": "stream",
     "text": [
      "12 20\n",
      "35\n",
      "12 55\n"
     ]
    }
   ],
   "source": [
    "h, m = input().split()\n",
    "plus = input()\n",
    "\n",
    "h = int(h)\n",
    "m = int(m)\n",
    "plus = int(plus)\n",
    "\n",
    "h += plus // 60\n",
    "m += plus % 60\n",
    "\n",
    "if m >= 60:\n",
    "    h += 1\n",
    "    m -= 60\n",
    "    \n",
    "if h >= 24:\n",
    "    h -= 24\n",
    "    \n",
    "print(h, m)"
   ]
  }
 ],
 "metadata": {
  "kernelspec": {
   "display_name": "Python 3 (ipykernel)",
   "language": "python",
   "name": "python3"
  },
  "language_info": {
   "codemirror_mode": {
    "name": "ipython",
    "version": 3
   },
   "file_extension": ".py",
   "mimetype": "text/x-python",
   "name": "python",
   "nbconvert_exporter": "python",
   "pygments_lexer": "ipython3",
   "version": "3.9.7"
  }
 },
 "nbformat": 4,
 "nbformat_minor": 5
}
