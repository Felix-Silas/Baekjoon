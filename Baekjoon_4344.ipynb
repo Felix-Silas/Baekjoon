{
 "cells": [
  {
   "cell_type": "code",
   "execution_count": 9,
   "id": "25ca5627",
   "metadata": {},
   "outputs": [
    {
     "name": "stdout",
     "output_type": "stream",
     "text": [
      "1\n",
      "9 100 99 98 97 96 95 94 93 91\n",
      "55.556%\n"
     ]
    }
   ],
   "source": [
    "T = int(input())\n",
    "sum = 0\n",
    "count = 0\n",
    "sum2 = 0\n",
    "\n",
    "for i in range(T):\n",
    "    count = 0\n",
    "    sum = 0\n",
    "    sum2 = 0\n",
    "    lst = list(map(int, input().split()))\n",
    "    \n",
    "    for j in range(1, len(lst)):\n",
    "        sum += lst[j]\n",
    "        avg = sum / (len(lst) -1)\n",
    "       \n",
    "    for f in range(1, len(lst)):\n",
    "        if lst[f] > avg:\n",
    "            count += 1\n",
    "    ratio = count / (len(lst) - 1) * 100\n",
    "    print('{:.3f}%'.format(ratio))\n",
    "    \n",
    "'''       \n",
    "for i in range(T):\n",
    "    count = 0\n",
    "    lst = list(map(float, input().split()))\n",
    "    mean = sum(lst[1:]) / lst[0]\n",
    "    \n",
    "    for j in range(len(a) - 1):\n",
    "        if a[i+1] > mean:\n",
    "            count += 1\n",
    "    rato = count / a[0] * 100\n",
    "    print('{:.3f}%'.format(ratio))\n",
    "'''"
   ]
  }
 ],
 "metadata": {
  "kernelspec": {
   "display_name": "Python 3 (ipykernel)",
   "language": "python",
   "name": "python3"
  },
  "language_info": {
   "codemirror_mode": {
    "name": "ipython",
    "version": 3
   },
   "file_extension": ".py",
   "mimetype": "text/x-python",
   "name": "python",
   "nbconvert_exporter": "python",
   "pygments_lexer": "ipython3",
   "version": "3.9.7"
  }
 },
 "nbformat": 4,
 "nbformat_minor": 5
}
