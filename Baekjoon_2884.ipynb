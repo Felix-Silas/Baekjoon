{
 "cells": [
  {
   "cell_type": "code",
   "execution_count": 6,
   "id": "f8d6f265",
   "metadata": {},
   "outputs": [
    {
     "name": "stdout",
     "output_type": "stream",
     "text": [
      "10 10\n",
      "9 25\n"
     ]
    }
   ],
   "source": [
    "H, M = input().split()\n",
    "\n",
    "H = int(H)\n",
    "M = int(M)\n",
    "\n",
    "alarm = M -45\n",
    "\n",
    "if alarm < 0:\n",
    "    alarm = 60 + alarm\n",
    "    H = H-1\n",
    "\n",
    "if H < 0:\n",
    "    H = 23\n",
    "\n",
    "print(H, alarm)\n"
   ]
  }
 ],
 "metadata": {
  "kernelspec": {
   "display_name": "Python 3 (ipykernel)",
   "language": "python",
   "name": "python3"
  },
  "language_info": {
   "codemirror_mode": {
    "name": "ipython",
    "version": 3
   },
   "file_extension": ".py",
   "mimetype": "text/x-python",
   "name": "python",
   "nbconvert_exporter": "python",
   "pygments_lexer": "ipython3",
   "version": "3.9.7"
  }
 },
 "nbformat": 4,
 "nbformat_minor": 5
}
