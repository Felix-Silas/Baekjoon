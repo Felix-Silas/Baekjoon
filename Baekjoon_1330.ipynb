{
 "cells": [
  {
   "cell_type": "code",
   "execution_count": 6,
   "id": "17a2bc6f",
   "metadata": {},
   "outputs": [
    {
     "name": "stdout",
     "output_type": "stream",
     "text": [
      "3 3\n",
      "==\n"
     ]
    }
   ],
   "source": [
    "A, B = input().split()\n",
    "\n",
    "A = int(A)\n",
    "B = int(B)\n",
    "\n",
    "if (A>B):\n",
    "    print('>')\n",
    "\n",
    "elif(A<B):\n",
    "    print('<')\n",
    "\n",
    "else:\n",
    "    print('==')"
   ]
  }
 ],
 "metadata": {
  "kernelspec": {
   "display_name": "Python 3 (ipykernel)",
   "language": "python",
   "name": "python3"
  },
  "language_info": {
   "codemirror_mode": {
    "name": "ipython",
    "version": 3
   },
   "file_extension": ".py",
   "mimetype": "text/x-python",
   "name": "python",
   "nbconvert_exporter": "python",
   "pygments_lexer": "ipython3",
   "version": "3.9.7"
  }
 },
 "nbformat": 4,
 "nbformat_minor": 5
}
