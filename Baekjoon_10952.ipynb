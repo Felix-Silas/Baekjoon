{
 "cells": [
  {
   "cell_type": "code",
   "execution_count": 2,
   "id": "3e73c4cb",
   "metadata": {},
   "outputs": [
    {
     "name": "stdout",
     "output_type": "stream",
     "text": [
      "1 1\n",
      "2\n",
      "2 3\n",
      "5\n",
      "0 0\n"
     ]
    },
    {
     "data": {
      "text/plain": [
       "'\\nA, B = map(int,input().split())\\nwhile (A!=0 and B!=0):\\n    print(A+B)\\n    A, B = map(int, input().split())\\n'"
      ]
     },
     "execution_count": 2,
     "metadata": {},
     "output_type": "execute_result"
    }
   ],
   "source": [
    "i = 1\n",
    "\n",
    "while i == 1:\n",
    "    a, b = map(int, input().split())\n",
    "    \n",
    "    if a != 0 and b != 0:\n",
    "        print(a+b)\n",
    "    else:\n",
    "        i = 0\n",
    "\n",
    "'''\n",
    "A, B = map(int,input().split())\n",
    "while (A!=0 and B!=0):\n",
    "    print(A+B)\n",
    "    A, B = map(int, input().split())\n",
    "'''"
   ]
  }
 ],
 "metadata": {
  "kernelspec": {
   "display_name": "Python 3 (ipykernel)",
   "language": "python",
   "name": "python3"
  },
  "language_info": {
   "codemirror_mode": {
    "name": "ipython",
    "version": 3
   },
   "file_extension": ".py",
   "mimetype": "text/x-python",
   "name": "python",
   "nbconvert_exporter": "python",
   "pygments_lexer": "ipython3",
   "version": "3.9.7"
  }
 },
 "nbformat": 4,
 "nbformat_minor": 5
}
