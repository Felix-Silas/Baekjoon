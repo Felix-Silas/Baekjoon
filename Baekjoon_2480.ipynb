{
 "cells": [
  {
   "cell_type": "code",
   "execution_count": 7,
   "id": "6c014735",
   "metadata": {},
   "outputs": [
    {
     "name": "stdout",
     "output_type": "stream",
     "text": [
      "6 2 5\n",
      "600\n"
     ]
    }
   ],
   "source": [
    "a, b, c = input().split()\n",
    "\n",
    "a = int(a)\n",
    "b = int(b)\n",
    "c = int(c)\n",
    "\n",
    "if (a == b == c):\n",
    "    print(10000 + 1000 * a)   \n",
    "    \n",
    "elif (a == b):\n",
    "    print(1000 + (100 * a))\n",
    "elif (b == c):\n",
    "    print(1000 + (100 * b))\n",
    "elif (a == c):\n",
    "    print(1000 + (100 * a))\n",
    "    \n",
    "else:\n",
    "    print(100 * max(a, b, c))"
   ]
  }
 ],
 "metadata": {
  "kernelspec": {
   "display_name": "Python 3 (ipykernel)",
   "language": "python",
   "name": "python3"
  },
  "language_info": {
   "codemirror_mode": {
    "name": "ipython",
    "version": 3
   },
   "file_extension": ".py",
   "mimetype": "text/x-python",
   "name": "python",
   "nbconvert_exporter": "python",
   "pygments_lexer": "ipython3",
   "version": "3.9.7"
  }
 },
 "nbformat": 4,
 "nbformat_minor": 5
}
