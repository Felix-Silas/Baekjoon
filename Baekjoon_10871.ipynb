{
 "cells": [
  {
   "cell_type": "code",
   "execution_count": 1,
   "id": "9c1f61a3",
   "metadata": {},
   "outputs": [
    {
     "name": "stdout",
     "output_type": "stream",
     "text": [
      "10 5\n",
      "1 10 4 9 2 3 8 5 7 6\n",
      "1 4 2 3 "
     ]
    },
    {
     "data": {
      "text/plain": [
       "'\\nn, x = map(int, input().split())\\nlist_nums = list(map(int, input().split()))\\nbigger_nums = []\\n    \\nfor i in list_nums:\\n    if x > i:\\n        bigger_nums.append(str(i))\\n\\nprint(\" \".join(bigger_nums))\\n'"
      ]
     },
     "execution_count": 1,
     "metadata": {},
     "output_type": "execute_result"
    }
   ],
   "source": [
    "# 10871\n",
    "N, X = map(int, input().split())\n",
    "A = list(input().split())\n",
    "lst = []\n",
    "\n",
    "\n",
    "for i in range(N):\n",
    "    if int(A[i]) < X:\n",
    "        lst.append(A[i])\n",
    "\n",
    "for i in range(len(lst)):\n",
    "    print(lst[i], end = ' ')\n",
    "\n",
    "'''\n",
    "n, x = map(int, input().split())\n",
    "list_nums = list(map(int, input().split()))\n",
    "bigger_nums = []\n",
    "    \n",
    "for i in list_nums:\n",
    "    if x > i:\n",
    "        bigger_nums.append(str(i))\n",
    "\n",
    "print(\" \".join(bigger_nums))\n",
    "'''"
   ]
  }
 ],
 "metadata": {
  "kernelspec": {
   "display_name": "Python 3 (ipykernel)",
   "language": "python",
   "name": "python3"
  },
  "language_info": {
   "codemirror_mode": {
    "name": "ipython",
    "version": 3
   },
   "file_extension": ".py",
   "mimetype": "text/x-python",
   "name": "python",
   "nbconvert_exporter": "python",
   "pygments_lexer": "ipython3",
   "version": "3.9.7"
  }
 },
 "nbformat": 4,
 "nbformat_minor": 5
}
