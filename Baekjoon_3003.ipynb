{
 "cells": [
  {
   "cell_type": "code",
   "execution_count": 4,
   "id": "d678143a",
   "metadata": {},
   "outputs": [
    {
     "name": "stdout",
     "output_type": "stream",
     "text": [
      "0 1 2 2 2 7\n",
      "1 0 0 0 0 1 "
     ]
    }
   ],
   "source": [
    "chess = [1, 1, 2, 2, 2, 8]\n",
    "\n",
    "data = list(map(int,input().split()))\n",
    "\n",
    "for i in range(6):\n",
    "    print(chess[i] - data[i], end = ' ')"
   ]
  }
 ],
 "metadata": {
  "kernelspec": {
   "display_name": "Python 3 (ipykernel)",
   "language": "python",
   "name": "python3"
  },
  "language_info": {
   "codemirror_mode": {
    "name": "ipython",
    "version": 3
   },
   "file_extension": ".py",
   "mimetype": "text/x-python",
   "name": "python",
   "nbconvert_exporter": "python",
   "pygments_lexer": "ipython3",
   "version": "3.9.7"
  }
 },
 "nbformat": 4,
 "nbformat_minor": 5
}
