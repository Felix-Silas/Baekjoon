{
 "cells": [
  {
   "cell_type": "code",
   "execution_count": 2,
   "id": "b19871af",
   "metadata": {},
   "outputs": [
    {
     "name": "stdout",
     "output_type": "stream",
     "text": [
      "3\n",
      "20 40 60\n",
      "66.66666666666667\n"
     ]
    }
   ],
   "source": [
    "T = int(input())\n",
    "score = map(int,input().split())\n",
    "lst = list(score)\n",
    "\n",
    "del max\n",
    "# TypeError: 'int' object is not callable\n",
    "\n",
    "max = max(lst)\n",
    "\n",
    "\n",
    "for i in range(T):\n",
    "    lst[i] = lst[i] / max *100\n",
    "    \n",
    "print(sum(lst) / float(T))"
   ]
  }
 ],
 "metadata": {
  "kernelspec": {
   "display_name": "Python 3 (ipykernel)",
   "language": "python",
   "name": "python3"
  },
  "language_info": {
   "codemirror_mode": {
    "name": "ipython",
    "version": 3
   },
   "file_extension": ".py",
   "mimetype": "text/x-python",
   "name": "python",
   "nbconvert_exporter": "python",
   "pygments_lexer": "ipython3",
   "version": "3.9.7"
  }
 },
 "nbformat": 4,
 "nbformat_minor": 5
}
