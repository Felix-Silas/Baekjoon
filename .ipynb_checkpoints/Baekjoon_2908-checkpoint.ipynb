{
 "cells": [
  {
   "cell_type": "code",
   "execution_count": 26,
   "id": "26387dd6",
   "metadata": {},
   "outputs": [
    {
     "name": "stdout",
     "output_type": "stream",
     "text": [
      "839 237\n",
      "938\n"
     ]
    }
   ],
   "source": [
    "lst1, lst2 = list(input().split())\n",
    "\n",
    "reversed(lst1)\n",
    "reversed(lst2)\n",
    "\n",
    "\n",
    "num_1 = lst1[2] + lst1[1] + lst1[0]\n",
    "num_1 = int(num_1)\n",
    "\n",
    "num_2 = lst2[2] + lst2[1] + lst2[0]\n",
    "num_2 = int(num_2)\n",
    "\n",
    "if num_1 > num_2:\n",
    "    print(num_1)\n",
    "else:\n",
    "    print(num_2)"
   ]
  },
  {
   "cell_type": "code",
   "execution_count": 27,
   "id": "dd632533",
   "metadata": {},
   "outputs": [
    {
     "name": "stdout",
     "output_type": "stream",
     "text": [
      "839 237\n",
      "938\n"
     ]
    }
   ],
   "source": [
    "num1, num2 = input().split()\n",
    "num1 = int(num1[::-1])\n",
    "num2 = int(num2[::-1])\n",
    "\n",
    "if num_1 > num_2:\n",
    "    print(num_1)\n",
    "else:\n",
    "    print(num_2)"
   ]
  }
 ],
 "metadata": {
  "kernelspec": {
   "display_name": "Python 3 (ipykernel)",
   "language": "python",
   "name": "python3"
  },
  "language_info": {
   "codemirror_mode": {
    "name": "ipython",
    "version": 3
   },
   "file_extension": ".py",
   "mimetype": "text/x-python",
   "name": "python",
   "nbconvert_exporter": "python",
   "pygments_lexer": "ipython3",
   "version": "3.9.7"
  }
 },
 "nbformat": 4,
 "nbformat_minor": 5
}
