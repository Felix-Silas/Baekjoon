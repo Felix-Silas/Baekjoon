{
 "cells": [
  {
   "cell_type": "code",
   "execution_count": 9,
   "id": "f8c4ee3b",
   "metadata": {},
   "outputs": [
    {
     "name": "stdout",
     "output_type": "stream",
     "text": [
      "2\n",
      "3 ABC\n",
      "AAABBBCCC\n",
      "5 /HTTP\n",
      "/////HHHHHTTTTTTTTTTPPPPP\n"
     ]
    }
   ],
   "source": [
    "T = int(input())\n",
    "\n",
    "for i in range(T):\n",
    "    R, S = input().split()\n",
    "    text = \"\"\n",
    "    \n",
    "    R = int(R)\n",
    "    for j in range(len(S)):\n",
    "        text += S[j] * R\n",
    "        \n",
    "    print(text)\n",
    "    \n",
    "    "
   ]
  }
 ],
 "metadata": {
  "kernelspec": {
   "display_name": "Python 3 (ipykernel)",
   "language": "python",
   "name": "python3"
  },
  "language_info": {
   "codemirror_mode": {
    "name": "ipython",
    "version": 3
   },
   "file_extension": ".py",
   "mimetype": "text/x-python",
   "name": "python",
   "nbconvert_exporter": "python",
   "pygments_lexer": "ipython3",
   "version": "3.9.7"
  }
 },
 "nbformat": 4,
 "nbformat_minor": 5
}
