{
 "cells": [
  {
   "cell_type": "code",
   "execution_count": 1,
   "id": "4145533a",
   "metadata": {},
   "outputs": [
    {
     "name": "stdout",
     "output_type": "stream",
     "text": [
      "1 3\n",
      "4\n"
     ]
    }
   ],
   "source": [
    "A, B = input().split()    # 입력되는 두 문자를 한 줄에 받기 위해서 input() 함수로 입력받고 split() 함수로 나누어 A,B에 저장\n",
    "\n",
    "print(int(A) + int(B))    # int() 함수로 A와 B를 문자에서 정수로 변환하고 두 값을 더한 값을 출력한다."
   ]
  }
 ],
 "metadata": {
  "kernelspec": {
   "display_name": "Python 3 (ipykernel)",
   "language": "python",
   "name": "python3"
  },
  "language_info": {
   "codemirror_mode": {
    "name": "ipython",
    "version": 3
   },
   "file_extension": ".py",
   "mimetype": "text/x-python",
   "name": "python",
   "nbconvert_exporter": "python",
   "pygments_lexer": "ipython3",
   "version": "3.9.7"
  }
 },
 "nbformat": 4,
 "nbformat_minor": 5
}
