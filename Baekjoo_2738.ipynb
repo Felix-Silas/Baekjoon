{
 "cells": [
  {
   "cell_type": "code",
   "execution_count": 8,
   "id": "12cee518",
   "metadata": {},
   "outputs": [
    {
     "name": "stdout",
     "output_type": "stream",
     "text": [
      "5\n",
      "5\n",
      "2\n",
      "3\n",
      "4\n",
      "1\n",
      "1\n",
      "2\n",
      "3\n",
      "4\n",
      "5\n"
     ]
    }
   ],
   "source": [
    "N = int(input())\n",
    "lst = []\n",
    "\n",
    "\n",
    "for i in range(N):\n",
    "    num = int(input())\n",
    "    lst.append(num)\n",
    "\n",
    "lst = sorted(lst)\n",
    "\n",
    "for j in range(N):\n",
    "    print(lst[j])\n",
    "    "
   ]
  }
 ],
 "metadata": {
  "kernelspec": {
   "display_name": "Python 3 (ipykernel)",
   "language": "python",
   "name": "python3"
  },
  "language_info": {
   "codemirror_mode": {
    "name": "ipython",
    "version": 3
   },
   "file_extension": ".py",
   "mimetype": "text/x-python",
   "name": "python",
   "nbconvert_exporter": "python",
   "pygments_lexer": "ipython3",
   "version": "3.9.7"
  }
 },
 "nbformat": 4,
 "nbformat_minor": 5
}
