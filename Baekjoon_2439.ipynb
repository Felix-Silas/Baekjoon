{
 "cells": [
  {
   "cell_type": "code",
   "execution_count": 1,
   "id": "b98168d6",
   "metadata": {},
   "outputs": [
    {
     "name": "stdout",
     "output_type": "stream",
     "text": [
      "5\n",
      "    *\n",
      "   **\n",
      "  ***\n",
      " ****\n",
      "*****\n"
     ]
    },
    {
     "data": {
      "text/plain": [
       "\"\\nfor i in range(1, T+1):\\n    str = '*'*i\\n    print(str.rjust(T))\\n\""
      ]
     },
     "execution_count": 1,
     "metadata": {},
     "output_type": "execute_result"
    }
   ],
   "source": [
    "T = int(input())\n",
    "\n",
    "for i in range(1, T + 1):\n",
    "    print(' ' * (T-i) + '*' * (i))\n",
    "\n",
    "'''\n",
    "for i in range(1, T+1):\n",
    "    str = '*'*i\n",
    "    print(str.rjust(T))\n",
    "'''"
   ]
  }
 ],
 "metadata": {
  "kernelspec": {
   "display_name": "Python 3 (ipykernel)",
   "language": "python",
   "name": "python3"
  },
  "language_info": {
   "codemirror_mode": {
    "name": "ipython",
    "version": 3
   },
   "file_extension": ".py",
   "mimetype": "text/x-python",
   "name": "python",
   "nbconvert_exporter": "python",
   "pygments_lexer": "ipython3",
   "version": "3.9.7"
  }
 },
 "nbformat": 4,
 "nbformat_minor": 5
}
