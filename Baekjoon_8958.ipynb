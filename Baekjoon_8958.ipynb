{
 "cells": [
  {
   "cell_type": "code",
   "execution_count": 1,
   "id": "80486f6e",
   "metadata": {},
   "outputs": [
    {
     "name": "stdout",
     "output_type": "stream",
     "text": [
      "2\n",
      "OXOXOXOX\n",
      "4\n",
      "OOOOOO\n",
      "21\n"
     ]
    }
   ],
   "source": [
    "T = int(input())\n",
    "\n",
    "\n",
    "for i in range(T):\n",
    "    OX = list(input())\n",
    "    count = 0\n",
    "    score = 1\n",
    "    for j in OX:\n",
    "        if j == 'O':\n",
    "            count += score\n",
    "            score += 1\n",
    "        else:\n",
    "            score = 1\n",
    "    print(count)           "
   ]
  }
 ],
 "metadata": {
  "kernelspec": {
   "display_name": "Python 3 (ipykernel)",
   "language": "python",
   "name": "python3"
  },
  "language_info": {
   "codemirror_mode": {
    "name": "ipython",
    "version": 3
   },
   "file_extension": ".py",
   "mimetype": "text/x-python",
   "name": "python",
   "nbconvert_exporter": "python",
   "pygments_lexer": "ipython3",
   "version": "3.9.7"
  }
 },
 "nbformat": 4,
 "nbformat_minor": 5
}
